{
  "nbformat": 4,
  "nbformat_minor": 0,
  "metadata": {
    "colab": {
      "provenance": [],
      "authorship_tag": "ABX9TyOWyRjNeROA5/u8H8uTrr+p",
      "include_colab_link": true
    },
    "kernelspec": {
      "name": "python3",
      "display_name": "Python 3"
    },
    "language_info": {
      "name": "python"
    }
  },
  "cells": [
    {
      "cell_type": "markdown",
      "metadata": {
        "id": "view-in-github",
        "colab_type": "text"
      },
      "source": [
        "<a href=\"https://colab.research.google.com/github/bilalazhar72/Arxiv-Research-Pooler/blob/main/Playing_with_feedparser.ipynb\" target=\"_parent\"><img src=\"https://colab.research.google.com/assets/colab-badge.svg\" alt=\"Open In Colab\"/></a>"
      ]
    },
    {
      "cell_type": "code",
      "execution_count": null,
      "metadata": {
        "id": "VRLwBsBZpbYa"
      },
      "outputs": [],
      "source": [
        "!pip install feedparser"
      ]
    },
    {
      "cell_type": "code",
      "source": [
        "import feedparser\n",
        "\n",
        "query('ti:\"prompt\"')\n",
        "\n",
        "\n",
        "\n",
        "for query in search_query:\n",
        "\n",
        "  print(ti)\n"
      ],
      "metadata": {
        "id": "JDSOsbRzq4V3",
        "colab": {
          "base_uri": "https://localhost:8080/",
          "height": 245
        },
        "outputId": "bed35327-a8ec-4744-87c9-1431aa4f96f5"
      },
      "execution_count": null,
      "outputs": [
        {
          "output_type": "error",
          "ename": "NameError",
          "evalue": "ignored",
          "traceback": [
            "\u001b[0;31m---------------------------------------------------------------------------\u001b[0m",
            "\u001b[0;31mNameError\u001b[0m                                 Traceback (most recent call last)",
            "\u001b[0;32m<ipython-input-16-58563860892c>\u001b[0m in \u001b[0;36m<cell line: 3>\u001b[0;34m()\u001b[0m\n\u001b[1;32m      1\u001b[0m \u001b[0;32mimport\u001b[0m \u001b[0mfeedparser\u001b[0m\u001b[0;34m\u001b[0m\u001b[0;34m\u001b[0m\u001b[0m\n\u001b[1;32m      2\u001b[0m \u001b[0;34m\u001b[0m\u001b[0m\n\u001b[0;32m----> 3\u001b[0;31m \u001b[0mquery\u001b[0m\u001b[0;34m(\u001b[0m\u001b[0;34m'ti:\"prompt\"'\u001b[0m\u001b[0;34m)\u001b[0m\u001b[0;34m\u001b[0m\u001b[0;34m\u001b[0m\u001b[0m\n\u001b[0m\u001b[1;32m      4\u001b[0m \u001b[0;34m\u001b[0m\u001b[0m\n\u001b[1;32m      5\u001b[0m \u001b[0;34m\u001b[0m\u001b[0m\n",
            "\u001b[0;31mNameError\u001b[0m: name 'query' is not defined"
          ]
        }
      ]
    },
    {
      "cell_type": "code",
      "source": [
        "import urllib.request\n",
        "with urllib.request.urlopen('http://python.org/') as response:\n",
        "   html = response.read()\n",
        "   print(response.read)"
      ],
      "metadata": {
        "colab": {
          "base_uri": "https://localhost:8080/"
        },
        "id": "XtkYVSg9voF4",
        "outputId": "e601a2ba-39c9-4071-938a-aed2981d3aa2"
      },
      "execution_count": 6,
      "outputs": [
        {
          "output_type": "stream",
          "name": "stdout",
          "text": [
            "<bound method HTTPResponse.read of <http.client.HTTPResponse object at 0x7ec83f0935e0>>\n"
          ]
        }
      ]
    },
    {
      "cell_type": "code",
      "source": [],
      "metadata": {
        "id": "NcW7DMQUmCzp"
      },
      "execution_count": null,
      "outputs": []
    },
    {
      "cell_type": "markdown",
      "source": [
        "AND and OR script is here that worked fine\n"
      ],
      "metadata": {
        "id": "GhsZhUnzm0xx"
      }
    },
    {
      "cell_type": "code",
      "source": [],
      "metadata": {
        "id": "C78FIJjGm8fI"
      },
      "execution_count": null,
      "outputs": []
    },
    {
      "cell_type": "code",
      "source": [
        "!pip install feedparser"
      ],
      "metadata": {
        "colab": {
          "base_uri": "https://localhost:8080/"
        },
        "id": "_2A07cefm_Vx",
        "outputId": "6979a93b-5a7d-4dd5-ccff-547776af4904"
      },
      "execution_count": 9,
      "outputs": [
        {
          "output_type": "stream",
          "name": "stdout",
          "text": [
            "Collecting feedparser\n",
            "  Downloading feedparser-6.0.10-py3-none-any.whl (81 kB)\n",
            "\u001b[?25l     \u001b[90m━━━━━━━━━━━━━━━━━━━━━━━━━━━━━━━━━━━━━━━━\u001b[0m \u001b[32m0.0/81.1 kB\u001b[0m \u001b[31m?\u001b[0m eta \u001b[36m-:--:--\u001b[0m\r\u001b[2K     \u001b[91m━━━━━━━━━━━━━━━━━━━━━━━━━━━━━━━━━━━\u001b[0m\u001b[90m╺\u001b[0m\u001b[90m━━━━\u001b[0m \u001b[32m71.7/81.1 kB\u001b[0m \u001b[31m2.1 MB/s\u001b[0m eta \u001b[36m0:00:01\u001b[0m\r\u001b[2K     \u001b[90m━━━━━━━━━━━━━━━━━━━━━━━━━━━━━━━━━━━━━━━━\u001b[0m \u001b[32m81.1/81.1 kB\u001b[0m \u001b[31m1.9 MB/s\u001b[0m eta \u001b[36m0:00:00\u001b[0m\n",
            "\u001b[?25hCollecting sgmllib3k (from feedparser)\n",
            "  Downloading sgmllib3k-1.0.0.tar.gz (5.8 kB)\n",
            "  Preparing metadata (setup.py) ... \u001b[?25l\u001b[?25hdone\n",
            "Building wheels for collected packages: sgmllib3k\n",
            "  Building wheel for sgmllib3k (setup.py) ... \u001b[?25l\u001b[?25hdone\n",
            "  Created wheel for sgmllib3k: filename=sgmllib3k-1.0.0-py3-none-any.whl size=6047 sha256=70a4c023d4a4c750f1696d2817fb9b01fcc86677b508cf0cc41b6a8d6e969b17\n",
            "  Stored in directory: /root/.cache/pip/wheels/f0/69/93/a47e9d621be168e9e33c7ce60524393c0b92ae83cf6c6e89c5\n",
            "Successfully built sgmllib3k\n",
            "Installing collected packages: sgmllib3k, feedparser\n",
            "Successfully installed feedparser-6.0.10 sgmllib3k-1.0.0\n"
          ]
        }
      ]
    },
    {
      "cell_type": "code",
      "source": [
        "# Import necessary libraries\n",
        "import feedparser\n",
        "import urllib.parse\n",
        "\n",
        "# Define your search query\n",
        "search_query = 'ti:\"segment anything\" OR ti:\"chain of thought\"'\n",
        "\n",
        "# Encode the search query\n",
        "encoded_query = urllib.parse.quote(search_query)\n",
        "\n",
        "# Base URL for the arXiv API\n",
        "base_url = 'http://export.arxiv.org/api/query?search_query='\n",
        "\n",
        "# Form the complete URL for the request\n",
        "url = base_url + encoded_query\n",
        "\n",
        "# Make the request to the arXiv API and parse the response\n",
        "response = feedparser.parse(url)\n",
        "\n",
        "# Loop over the entries in the response and print the title of each paper\n",
        "for entry in response.entries:\n",
        "    print('Title: ', entry.title)\n"
      ],
      "metadata": {
        "colab": {
          "base_uri": "https://localhost:8080/",
          "height": 383
        },
        "id": "PIzb_eM8F7SJ",
        "outputId": "c458f88a-cfd9-43e9-d2f8-ab09c9fb9804"
      },
      "execution_count": 7,
      "outputs": [
        {
          "output_type": "error",
          "ename": "ModuleNotFoundError",
          "evalue": "ignored",
          "traceback": [
            "\u001b[0;31m---------------------------------------------------------------------------\u001b[0m",
            "\u001b[0;31mModuleNotFoundError\u001b[0m                       Traceback (most recent call last)",
            "\u001b[0;32m<ipython-input-7-185af4d91673>\u001b[0m in \u001b[0;36m<cell line: 2>\u001b[0;34m()\u001b[0m\n\u001b[1;32m      1\u001b[0m \u001b[0;31m# Import necessary libraries\u001b[0m\u001b[0;34m\u001b[0m\u001b[0;34m\u001b[0m\u001b[0m\n\u001b[0;32m----> 2\u001b[0;31m \u001b[0;32mimport\u001b[0m \u001b[0mfeedparser\u001b[0m\u001b[0;34m\u001b[0m\u001b[0;34m\u001b[0m\u001b[0m\n\u001b[0m\u001b[1;32m      3\u001b[0m \u001b[0;32mimport\u001b[0m \u001b[0murllib\u001b[0m\u001b[0;34m.\u001b[0m\u001b[0mparse\u001b[0m\u001b[0;34m\u001b[0m\u001b[0;34m\u001b[0m\u001b[0m\n\u001b[1;32m      4\u001b[0m \u001b[0;34m\u001b[0m\u001b[0m\n\u001b[1;32m      5\u001b[0m \u001b[0;31m# Define your search query\u001b[0m\u001b[0;34m\u001b[0m\u001b[0;34m\u001b[0m\u001b[0m\n",
            "\u001b[0;31mModuleNotFoundError\u001b[0m: No module named 'feedparser'",
            "",
            "\u001b[0;31m---------------------------------------------------------------------------\u001b[0;32m\nNOTE: If your import is failing due to a missing package, you can\nmanually install dependencies using either !pip or !apt.\n\nTo view examples of installing some common dependencies, click the\n\"Open Examples\" button below.\n\u001b[0;31m---------------------------------------------------------------------------\u001b[0m\n"
          ],
          "errorDetails": {
            "actions": [
              {
                "action": "open_url",
                "actionText": "Open Examples",
                "url": "/notebooks/snippets/importing_libraries.ipynb"
              }
            ]
          }
        }
      ]
    },
    {
      "cell_type": "markdown",
      "source": [
        "## Using arxiv api wrapper written in pyhton"
      ],
      "metadata": {
        "id": "_qZJaZJV8eNC"
      }
    },
    {
      "cell_type": "code",
      "source": [
        "!pip install arxiv"
      ],
      "metadata": {
        "colab": {
          "base_uri": "https://localhost:8080/"
        },
        "id": "ofaVcCJI62j8",
        "outputId": "62368c1a-95df-4c34-eb9c-3719f95104b5"
      },
      "execution_count": 11,
      "outputs": [
        {
          "output_type": "stream",
          "name": "stdout",
          "text": [
            "Collecting arxiv\n",
            "  Downloading arxiv-1.4.8-py3-none-any.whl (12 kB)\n",
            "Requirement already satisfied: feedparser in /usr/local/lib/python3.10/dist-packages (from arxiv) (6.0.10)\n",
            "Requirement already satisfied: sgmllib3k in /usr/local/lib/python3.10/dist-packages (from feedparser->arxiv) (1.0.0)\n",
            "Installing collected packages: arxiv\n",
            "Successfully installed arxiv-1.4.8\n"
          ]
        }
      ]
    },
    {
      "cell_type": "code",
      "source": [
        "import arxiv\n",
        "import time\n",
        "\n",
        "#define wait time for the variable\n",
        "wait_time=4\n",
        "\n",
        "# Define the search parameters\n",
        "search = arxiv.Search(\n",
        "    query='cat:cs.AI',  # Search in the Computer Science category\n",
        "    max_results=10,  # Fetch the 10 most recent articles\n",
        "    sort_by=arxiv.SortCriterion.SubmittedDate,  # Sort by submission date\n",
        "    sort_order=arxiv.SortOrder.Descending  # In descending order, so the most recent articles come first\n",
        ")\n",
        "\n",
        "# Loop through the results and print the title, comment, and PDF URL of each article\n",
        "for result in search.results():\n",
        "    print('Title: ', result.title)\n",
        "    print('Comment: ', result.comment)\n",
        "    print('PDF URL: ', result.pdf_url)\n",
        "\n",
        "\n",
        "    print('Publishing date ', result.published)\n",
        "    print('\\n')\n",
        "\n",
        "    # Sleep for 3 seconds to avoid overloading the server\n",
        "    time.sleep(wait_time)"
      ],
      "metadata": {
        "colab": {
          "base_uri": "https://localhost:8080/",
          "height": 540
        },
        "id": "zM42OtXv6sSt",
        "outputId": "1bc04d52-580a-4314-ec6f-407861d0576b"
      },
      "execution_count": 15,
      "outputs": [
        {
          "output_type": "stream",
          "name": "stdout",
          "text": [
            "Title:  Octopus: Embodied Vision-Language Programmer from Environmental Feedback\n",
            "Comment:  Project Page: https://choiszt.github.io/Octopus/, Codebase:\n",
            "  https://github.com/dongyh20/Octopus\n",
            "PDF URL:  http://arxiv.org/pdf/2310.08588v1\n",
            "Publishing date  2023-10-12 17:59:58+00:00\n",
            "\n",
            "\n",
            "Title:  Tree-Planner: Efficient Close-loop Task Planning with Large Language Models\n",
            "Comment:  None\n",
            "PDF URL:  http://arxiv.org/pdf/2310.08582v1\n",
            "Publishing date  2023-10-12 17:59:50+00:00\n",
            "\n",
            "\n",
            "Title:  Jigsaw: Supporting Designers in Prototyping Multimodal Applications by Assembling AI Foundation Models\n",
            "Comment:  Webpage: https://preview.jigsaw.to\n",
            "PDF URL:  http://arxiv.org/pdf/2310.08574v1\n",
            "Publishing date  2023-10-12 17:57:57+00:00\n",
            "\n",
            "\n"
          ]
        },
        {
          "output_type": "error",
          "ename": "KeyboardInterrupt",
          "evalue": "ignored",
          "traceback": [
            "\u001b[0;31m---------------------------------------------------------------------------\u001b[0m",
            "\u001b[0;31mKeyboardInterrupt\u001b[0m                         Traceback (most recent call last)",
            "\u001b[0;32m<ipython-input-15-c545f8b141a9>\u001b[0m in \u001b[0;36m<cell line: 15>\u001b[0;34m()\u001b[0m\n\u001b[1;32m     23\u001b[0m \u001b[0;34m\u001b[0m\u001b[0m\n\u001b[1;32m     24\u001b[0m     \u001b[0;31m# Sleep for 3 seconds to avoid overloading the server\u001b[0m\u001b[0;34m\u001b[0m\u001b[0;34m\u001b[0m\u001b[0m\n\u001b[0;32m---> 25\u001b[0;31m     \u001b[0mtime\u001b[0m\u001b[0;34m.\u001b[0m\u001b[0msleep\u001b[0m\u001b[0;34m(\u001b[0m\u001b[0mwait_time\u001b[0m\u001b[0;34m)\u001b[0m\u001b[0;34m\u001b[0m\u001b[0;34m\u001b[0m\u001b[0m\n\u001b[0m",
            "\u001b[0;31mKeyboardInterrupt\u001b[0m: "
          ]
        }
      ]
    }
  ]
}